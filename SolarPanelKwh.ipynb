{
 "cells": [
  {
   "cell_type": "code",
   "execution_count": 1,
   "id": "12c99d0c-5e1a-4058-bf18-e9a6440b5213",
   "metadata": {},
   "outputs": [],
   "source": [
    "import pandas as pd\n",
    "import matplotlib.pyplot as plt\n",
    "import math\n",
    "import scipy as sp\n",
    "import numpy as np\n",
    "from scipy import odr\n",
    "\n",
    "\n",
    "import datetime\n",
    "\n",
    "from datetime import timedelta\n",
    "from datetime import datetime\n",
    "from datetime import date\n",
    "from dateutil.relativedelta import *\n",
    "from datetime import datetime, timedelta\n",
    "pd.set_option('display.max_rows', 300)"
   ]
  },
  {
   "cell_type": "code",
   "execution_count": 2,
   "id": "942221e7-a095-4691-9d98-90a710e266cf",
   "metadata": {},
   "outputs": [
    {
     "name": "stdout",
     "output_type": "stream",
     "text": [
      "0\n"
     ]
    }
   ],
   "source": [
    "#Make a function that makes all negative numbers 0.\n",
    "def OnlyPos(num):\n",
    "    if num>=0: return num\n",
    "    if num<0: return 0\n",
    "print(OnlyPos(-10))\n"
   ]
  },
  {
   "cell_type": "code",
   "execution_count": 3,
   "id": "f3c02b9c-7f6c-470e-a90f-87c852f916b4",
   "metadata": {},
   "outputs": [],
   "source": [
    "#input start run time\n",
    "start = pd.to_datetime('2022-01-01 1:00')\n",
    "end   = pd.to_datetime('2022-12-31 23:00')\n",
    "\n",
    "\n",
    "panelcount=10\n",
    "\n",
    "#area in m^2\n",
    "panelarea=1.64*panelcount\n",
    "panelefficiency=0.18\n",
    "cloudloss=0.55\n",
    "\n",
    "timediff=end-start\n",
    "\n",
    "#input photovotaic orientation in elivation and azimuth\n",
    "photangle=38\n",
    "\n",
    "photaz=150\n",
    "\n",
    "#back side #photaz=330\n",
    "\n",
    "#House Facing #photaz=240\n",
    "\n",
    "# Due South #photaz=180\n",
    "\n",
    "#point in the sky that the photovoltaic points at\n",
    "photel=90-photangle\n",
    "\n"
   ]
  },
  {
   "cell_type": "code",
   "execution_count": 4,
   "id": "ca6dd178-7838-4a19-8111-4996d1fb59e0",
   "metadata": {},
   "outputs": [],
   "source": [
    "timediff\n",
    "timediffhours=24*timediff.days+timediff.seconds/3600"
   ]
  },
  {
   "cell_type": "code",
   "execution_count": 5,
   "id": "dc40bd4d-ecc7-4484-88f7-d52968cc9f81",
   "metadata": {},
   "outputs": [],
   "source": [
    "\n",
    "\n",
    "def sunpos(when, location, refraction):\n",
    "# Extract the passed data\n",
    "    year, month, day, hour, minute, second, timezone = when\n",
    "    latitude, longitude = location\n",
    "# Math typing shortcuts\n",
    "    rad, deg = math.radians, math.degrees\n",
    "    sin, cos, tan = math.sin, math.cos, math.tan\n",
    "    asin, atan2 = math.asin, math.atan2\n",
    "# Convert latitude and longitude to radians\n",
    "    rlat = rad(latitude)\n",
    "    rlon = rad(longitude)\n",
    "# Decimal hour of the day at Greenwich\n",
    "    greenwichtime = hour - timezone + minute / 60 + second / 3600\n",
    "# Days from J2000, accurate from 1901 to 2099\n",
    "    daynum = (\n",
    "        367 * year\n",
    "        - 7 * (year + (month + 9) // 12) // 4\n",
    "        + 275 * month // 9\n",
    "        + day\n",
    "        - 730531.5\n",
    "        + greenwichtime / 24\n",
    "    )\n",
    "# Mean longitude of the sun\n",
    "    mean_long = daynum * 0.01720279239 + 4.894967873\n",
    "# Mean anomaly of the Sun\n",
    "    mean_anom = daynum * 0.01720197034 + 6.240040768\n",
    "# Ecliptic longitude of the sun\n",
    "    eclip_long = (\n",
    "        mean_long\n",
    "        + 0.03342305518 * sin(mean_anom)\n",
    "        + 0.0003490658504 * sin(2 * mean_anom)\n",
    "    )\n",
    "# Obliquity of the ecliptic\n",
    "    obliquity = 0.4090877234 - 0.000000006981317008 * daynum\n",
    "# Right ascension of the sun\n",
    "    rasc = atan2(cos(obliquity) * sin(eclip_long), cos(eclip_long))\n",
    "# Declination of the sun\n",
    "    decl = asin(sin(obliquity) * sin(eclip_long))\n",
    "# Local sidereal time\n",
    "    sidereal = 4.894961213 + 6.300388099 * daynum + rlon\n",
    "# Hour angle of the sun\n",
    "    hour_ang = sidereal - rasc\n",
    "# Local elevation of the sun\n",
    "    elevation = asin(sin(decl) * sin(rlat) + cos(decl) * cos(rlat) * cos(hour_ang))\n",
    "# Local azimuth of the sun\n",
    "    azimuth = atan2(\n",
    "        -cos(decl) * cos(rlat) * sin(hour_ang),\n",
    "        sin(decl) - sin(rlat) * sin(elevation),\n",
    "    )\n",
    "# Convert azimuth and elevation to degrees\n",
    "    azimuth = into_range(deg(azimuth), 0, 360)\n",
    "    elevation = into_range(deg(elevation), -180, 180)\n",
    "    \n",
    "\n",
    "    \n",
    "# Refraction correction (optional)\n",
    "    if refraction:\n",
    "        targ = rad((elevation + (10.3 / (elevation + 5.11))))\n",
    "        elevation += (1.02 / tan(targ)) / 60\n",
    "        \n",
    "        \n",
    "    #Data table for Elevation to Power\n",
    "    data = {'Sun_Elevation': [90, 75, 60, 45, 30, 20, 15, 10, 5, 0], \n",
    "        'Power': [1040, 1030, 1000, 950, 840, 710, 620, 470, 260, 20]}\n",
    "    df_ElevationPower = pd.DataFrame(data)\n",
    "\n",
    "    poly_model = odr.polynomial(5)\n",
    "    data = odr.Data(df_ElevationPower.Sun_Elevation, df_ElevationPower.Power)\n",
    "    odr_obj = odr.ODR(data, poly_model)\n",
    "    output = odr_obj.run() \n",
    "    poly = np.poly1d(output.beta[::-1])\n",
    "    poly_y = poly(df_ElevationPower.Sun_Elevation)\n",
    "    df_gen_Elevation = pd.DataFrame({'gen':range(101)})\n",
    "    gen_y=poly(df_gen_Elevation)\n",
    "    power= OnlyPos(round(poly(elevation),1))    \n",
    "   \n",
    "# Return azimuth and elevation in degrees\n",
    "    return (round(azimuth, 2), round(elevation, 2), round(power,2))\n",
    "def into_range(x, range_min, range_max):\n",
    "    shiftedx = x - range_min\n",
    "    delta = range_max - range_min\n",
    "    return (((shiftedx % delta) + delta) % delta) + range_min\n",
    "if __name__ == \"__main__\":\n",
    "# Close Encounters latitude, longitude\n",
    "    location = (47.299, 11.204,)\n",
    "# Fourth of July, 2022 at 11:20 am MDT (-6 hours)\n",
    "    when=(2022, 4, 4, 6, 42, 0, +2)\n",
    "# Get the Sun's apparent location in the sky\n",
    "    azimuth, elevation, power = sunpos(when, location, True)\n"
   ]
  },
  {
   "cell_type": "code",
   "execution_count": 6,
   "id": "d09bcbd6-82ed-47c1-8847-3baf27125052",
   "metadata": {},
   "outputs": [],
   "source": [
    "#plt.plot(df_ElevationPower.Sun_Elevation,  df_ElevationPower.Power,'ro', label=\"input data\")\n",
    "#plt.plot(df_gen_Elevation, gen_y, label=\"polynomial ODR\")"
   ]
  },
  {
   "cell_type": "code",
   "execution_count": 7,
   "id": "ff994c8e-c224-481b-b34b-37a09494b8e3",
   "metadata": {},
   "outputs": [],
   "source": [
    "#year, month, day, hour, minute, second, time zone\n",
    "when=(2022, 1, 13, 12, 0, 0, +2)\n",
    "location = (47.299, 11.204,)\n",
    "\n",
    "#The function\n",
    "sun_posdata=sunpos(when, location, True)"
   ]
  },
  {
   "cell_type": "code",
   "execution_count": 8,
   "id": "6e2b40bf-20e9-4bd4-b12a-1da3ef84947a",
   "metadata": {},
   "outputs": [
    {
     "data": {
      "text/html": [
       "<div>\n",
       "<style scoped>\n",
       "    .dataframe tbody tr th:only-of-type {\n",
       "        vertical-align: middle;\n",
       "    }\n",
       "\n",
       "    .dataframe tbody tr th {\n",
       "        vertical-align: top;\n",
       "    }\n",
       "\n",
       "    .dataframe thead th {\n",
       "        text-align: right;\n",
       "    }\n",
       "</style>\n",
       "<table border=\"1\" class=\"dataframe\">\n",
       "  <thead>\n",
       "    <tr style=\"text-align: right;\">\n",
       "      <th></th>\n",
       "      <th>Date_Time</th>\n",
       "      <th>Sun_Azimuth</th>\n",
       "      <th>Sun_Elevation</th>\n",
       "      <th>Sun_Power</th>\n",
       "      <th>Angle_SuntoPanel</th>\n",
       "      <th>PowerRatio_SuntoPanel</th>\n",
       "      <th>Incident_Power</th>\n",
       "    </tr>\n",
       "  </thead>\n",
       "  <tbody>\n",
       "    <tr>\n",
       "      <th>0</th>\n",
       "      <td>Sat 01-01 01:00</td>\n",
       "      <td>349.72</td>\n",
       "      <td>-65.45</td>\n",
       "      <td>0</td>\n",
       "      <td>163.0</td>\n",
       "      <td>0</td>\n",
       "      <td>0.0</td>\n",
       "    </tr>\n",
       "  </tbody>\n",
       "</table>\n",
       "</div>"
      ],
      "text/plain": [
       "          Date_Time  Sun_Azimuth  Sun_Elevation  Sun_Power  Angle_SuntoPanel  \\\n",
       "0   Sat 01-01 01:00       349.72         -65.45          0             163.0   \n",
       "\n",
       "   PowerRatio_SuntoPanel  Incident_Power  \n",
       "0                      0             0.0  "
      ]
     },
     "execution_count": 8,
     "metadata": {},
     "output_type": "execute_result"
    }
   ],
   "source": [
    "\n",
    "start_year= start.year\n",
    "start_month= start.month\n",
    "start_day=start.day\n",
    "start_hour=start.hour\n",
    "start_minute=start.minute\n",
    "start_second=start.second\n",
    "\n",
    "#year, month, day, hour, minute, second, time zone \n",
    "when=(start_year,start_month,start_day,start_hour, start_minute, 0, +2)\n",
    "location = (47.299, 11.204,)\n",
    "\n",
    "#The function\n",
    "sun_posdata=sunpos(when, location, True)\n",
    "\n",
    "\n",
    "\n",
    "#For the first value\n",
    "#convert the \"when\" tuple to data frame data\n",
    "my_tuple = when\n",
    "dt_date = datetime(*my_tuple) #Unpacks the tuple into datetime arguments\n",
    "\n",
    "#use the sun position data and the photovoltaic panel position to find the angle between the two and the incident ratio of the sun´s power onto the panel\n",
    "\n",
    "sunaz=    sun_posdata[0]\n",
    "sunel=    sun_posdata[1]\n",
    "sunpower= sun_posdata[2]\n",
    "\n",
    "incidence_angle=round(180/math.pi*math.acos(math.sin(sunel/180*math.pi)*math.sin(photel/180*math.pi)+math.cos(sunel/180*math.pi)*math.cos(photel/180*math.pi)*math.cos(sunaz/180*math.pi-photaz\n",
    " /180*math.pi)),0)\n",
    "\n",
    "incidence_ratio=OnlyPos(math.cos(incidence_angle/180*math.pi))\n",
    "\n",
    "\n",
    "incident_power=incidence_ratio*sunpower*panelarea*panelefficiency*cloudloss\n",
    "\n",
    "\n",
    "df_data=pd.DataFrame({'Date_Time':[dt_date],'Sun_Azimuth':[sunaz],'Sun_Elevation':[sunel],'Sun_Power':[sunpower],'Angle_SuntoPanel':[incidence_angle],'PowerRatio_SuntoPanel':[incidence_ratio], 'Incident_Power':[incident_power]})\n",
    "\n",
    "\n",
    "#For following values loop\n",
    "#convert the \"when\" tuple to data frame data\n",
    "\n",
    "\n",
    "cont=start\n",
    "l=0\n",
    "total_incident_power=incident_power\n",
    "\n",
    "\n",
    "\n",
    "if start.month==1: January_incident_power=incident_power\n",
    "else: January_incident_power=0\n",
    "\n",
    "if start.month==2: February_incident_power=incident_power\n",
    "else: February_incident_power=0\n",
    "\n",
    "if start.month==3: March_incident_power=incident_power\n",
    "else: March_incident_power=0\n",
    "\n",
    "if start.month==4: April_incident_power=incident_power\n",
    "else: April_incident_power=0\n",
    "\n",
    "if start.month==5: May_incident_power=incident_power\n",
    "else: May_incident_power=0    \n",
    "\n",
    "if start.month==6: June_incident_power=incident_power\n",
    "else: June_incident_power=0 \n",
    "    \n",
    "if start.month==7: July_incident_power=incident_power\n",
    "else: July_incident_power=0 \n",
    "\n",
    "if start.month==8: August_incident_power=incident_power\n",
    "else: August_incident_power=0 \n",
    "\n",
    "if start.month==9: September_incident_power=incident_power\n",
    "else: September_incident_power=0 \n",
    "    \n",
    "if start.month==10: October_incident_power=incident_power\n",
    "else: October_incident_power=0\n",
    "    \n",
    "if start.month==11: November_incident_power=incident_power\n",
    "else: November_incident_power=0\n",
    "\n",
    "if start.month==12: December_incident_power=incident_power\n",
    "else: December_incident_power=0\n",
    "    \n",
    "    \n",
    "    \n",
    "while l<timediffhours:  \n",
    "\n",
    "\n",
    " cont=cont+ timedelta(hours=1)\n",
    " cont_year= cont.year\n",
    " cont_month= cont.month\n",
    " cont_day=cont.day\n",
    " cont_hour=cont.hour\n",
    " cont_minute=cont.minute\n",
    " cont_second=cont.second\n",
    "\n",
    " when=(cont_year,cont_month,cont_day,cont_hour, cont_minute, 0, +2)\n",
    " sun_posdata=sunpos(when, location, True)\n",
    "\n",
    " my_tuple = when\n",
    " dt_date = datetime(*my_tuple) #Unpacks the tuple into datetime arguments\n",
    "\n",
    "    \n",
    " #use the sun position data and the photovoltaic panel position to find the angle between the two and the incident ratio of the sun´s power onto the panel\n",
    " sunaz=    sun_posdata[0]\n",
    " sunel=    sun_posdata[1]\n",
    " sunpower= sun_posdata[2]\n",
    "\n",
    " incidence_angle=round(180/math.pi*math.acos(math.sin(sunel/180*math.pi)*math.sin(photel/180*math.pi)+math.cos(sunel/180*math.pi)*math.cos(photel/180*math.pi)*math.cos(sunaz/180*math.pi-photaz\n",
    " /180*math.pi)),0)\n",
    "\n",
    "\n",
    "\n",
    " incidence_ratio=OnlyPos(math.cos(incidence_angle/180*math.pi))\n",
    " incident_power=incidence_ratio*sunpower*panelarea*panelefficiency*cloudloss\n",
    " total_incident_power=total_incident_power+incident_power\n",
    "\n",
    "\n",
    " if  dt_date.month==1:    \n",
    "    January_incident_power= January_incident_power+incident_power      \n",
    "    \n",
    " if  dt_date.month==2:    \n",
    "    February_incident_power= February_incident_power+incident_power        \n",
    "    \n",
    " if  dt_date.month==3:    \n",
    "    March_incident_power= March_incident_power+incident_power\n",
    "        \n",
    " if  dt_date.month==4:    \n",
    "    April_incident_power= April_incident_power+incident_power\n",
    "    \n",
    " if  dt_date.month==5:    \n",
    "    May_incident_power= May_incident_power+incident_power\n",
    "    \n",
    " if  dt_date.month==6:    \n",
    "    June_incident_power= June_incident_power+incident_power\n",
    "    \n",
    " if  dt_date.month==7:    \n",
    "    July_incident_power= July_incident_power+incident_power\n",
    "    \n",
    " if  dt_date.month==8:    \n",
    "    August_incident_power= August_incident_power+incident_power\n",
    "\n",
    " if  dt_date.month==9:    \n",
    "    September_incident_power= September_incident_power+incident_power\n",
    "    \n",
    " if  dt_date.month==10:    \n",
    "    October_incident_power= October_incident_power+incident_power\n",
    "\n",
    " if  dt_date.month==11:    \n",
    "    November_incident_power= November_incident_power+incident_power\n",
    "    \n",
    " if  dt_date.month==12:    \n",
    "    December_incident_power= December_incident_power+incident_power\n",
    "\n",
    "\n",
    " #appended = {'Date_Time': dt_date, 'Sun_Azimuth': sunaz, 'Sun_Elevation': sunel,'Sun_Power':sunpower,'Angle_SuntoPanel':incidence_angle,'PowerRatio_SuntoPanel':incidence_ratio, 'Incident_Power':incident_power}\n",
    "\n",
    " #df_data = df_data.append(appended, ignore_index = True)\n",
    "\n",
    " \n",
    " l=l+1\n",
    "\n",
    "\n",
    "    \n",
    "\n",
    "\n",
    "#make the date format shorter\n",
    "i=len(df_data)\n",
    "q=0\n",
    "while i>0:         \n",
    "    df_data.at[q, 'Date_Time'] =df_data.at[q,'Date_Time'].strftime(\" %a %d-%m %H:%M\")\n",
    "    q=q+1\n",
    "    i=i-1\n",
    "df_data"
   ]
  },
  {
   "cell_type": "code",
   "execution_count": 9,
   "id": "120f5ff9-8871-4256-97fa-870bbbbd6cc5",
   "metadata": {},
   "outputs": [
    {
     "data": {
      "text/plain": [
       "12"
      ]
     },
     "execution_count": 9,
     "metadata": {},
     "output_type": "execute_result"
    }
   ],
   "source": [
    "dt_date.month"
   ]
  },
  {
   "cell_type": "code",
   "execution_count": 10,
   "id": "c3b48642-ee86-49a8-9d1b-f6a927b6313f",
   "metadata": {},
   "outputs": [
    {
     "data": {
      "text/plain": [
       "3316"
      ]
     },
     "execution_count": 10,
     "metadata": {},
     "output_type": "execute_result"
    }
   ],
   "source": [
    "round(total_incident_power/1000)\n"
   ]
  },
  {
   "cell_type": "code",
   "execution_count": 11,
   "id": "67373b9b-14ec-4e27-be8f-27c73d011010",
   "metadata": {},
   "outputs": [
    {
     "data": {
      "text/plain": [
       "0.0"
      ]
     },
     "execution_count": 11,
     "metadata": {},
     "output_type": "execute_result"
    }
   ],
   "source": [
    "#Only applicable if making a dataframe\n",
    "sum(df_data.Incident_Power)"
   ]
  },
  {
   "cell_type": "code",
   "execution_count": 12,
   "id": "2155e932-8954-4cd3-a58f-6454e19022cd",
   "metadata": {},
   "outputs": [
    {
     "name": "stdout",
     "output_type": "stream",
     "text": [
      "January    163\n",
      "February   202\n",
      "March      292\n",
      "April      332\n",
      "May        368\n",
      "June       363\n",
      "July       371\n",
      "August     355\n",
      "September  303\n",
      "October    249\n",
      "November   175\n",
      "December   143\n",
      "          Total kWh     3316\n"
     ]
    }
   ],
   "source": [
    "print(\"January   \", round(January_incident_power/1000))\n",
    "print(\"February  \", round(February_incident_power/1000))\n",
    "print(\"March     \", round(March_incident_power/1000))\n",
    "print(\"April     \", round(April_incident_power/1000))\n",
    "print(\"May       \", round(May_incident_power/1000))\n",
    "print(\"June      \", round(June_incident_power/1000))\n",
    "print(\"July      \", round(July_incident_power/1000))\n",
    "print(\"August    \", round(August_incident_power/1000))\n",
    "print(\"September \", round(September_incident_power/1000))\n",
    "print(\"October   \", round(October_incident_power/1000))\n",
    "print(\"November  \", round(November_incident_power/1000))\n",
    "print(\"December  \", round(December_incident_power/1000))\n",
    "\n",
    "print(\"          Total kWh    \",round(total_incident_power/1000))"
   ]
  },
  {
   "cell_type": "code",
   "execution_count": null,
   "id": "85cbaaf1-286b-4e2e-8685-dd8759a23688",
   "metadata": {},
   "outputs": [],
   "source": [
    "\n"
   ]
  },
  {
   "cell_type": "code",
   "execution_count": 13,
   "id": "cd8e4be9-de5b-44b8-8b89-1b3c54173849",
   "metadata": {},
   "outputs": [
    {
     "data": {
      "text/plain": [
       "27"
      ]
     },
     "execution_count": 13,
     "metadata": {},
     "output_type": "execute_result"
    }
   ],
   "source": [
    "#Kwh in the time frame %18 efficient cells. %83 with cloud cover. 20 m^2 panels per day\n",
    "#round(total_incident_power/1000*0.18*0.83*20/365)\n"
   ]
  },
  {
   "cell_type": "code",
   "execution_count": 14,
   "id": "1c0de428-429f-4b5e-8a18-574d008e47d0",
   "metadata": {},
   "outputs": [
    {
     "data": {
      "text/plain": [
       "14"
      ]
     },
     "execution_count": 14,
     "metadata": {},
     "output_type": "execute_result"
    }
   ],
   "source": [
    "#Kwh in the time frame %18 efficient cells. %83 with cloud cover. 20 m^2 panels per day\n",
    "#round(December_incident_power/1000*0.18*0.83*20/31)"
   ]
  },
  {
   "cell_type": "code",
   "execution_count": null,
   "id": "2113a1e9-e3d8-41eb-a372-d2f83c1f39e3",
   "metadata": {},
   "outputs": [],
   "source": []
  },
  {
   "cell_type": "code",
   "execution_count": null,
   "id": "b33603eb-fb9d-4814-a5b6-8fb0e520342a",
   "metadata": {},
   "outputs": [],
   "source": []
  },
  {
   "cell_type": "code",
   "execution_count": null,
   "id": "1baa3162-cba0-4713-aa8c-dde6349a6fa4",
   "metadata": {},
   "outputs": [],
   "source": []
  }
 ],
 "metadata": {
  "kernelspec": {
   "display_name": "Python 3",
   "language": "python",
   "name": "python3"
  },
  "language_info": {
   "codemirror_mode": {
    "name": "ipython",
    "version": 3
   },
   "file_extension": ".py",
   "mimetype": "text/x-python",
   "name": "python",
   "nbconvert_exporter": "python",
   "pygments_lexer": "ipython3",
   "version": "3.8.8"
  }
 },
 "nbformat": 4,
 "nbformat_minor": 5
}
